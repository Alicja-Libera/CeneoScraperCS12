{
 "cells": [
  {
   "cell_type": "markdown",
   "metadata": {},
   "source": [
    "#### Import\n"
   ]
  },
  {
   "cell_type": "code",
   "execution_count": 21,
   "metadata": {},
   "outputs": [],
   "source": [
    "import os \n",
    "import json\n",
    "import requests\n",
    "import datetime\n",
    "from bs4 import BeautifulSoup\n",
    "from deep_translator import GoogleTranslator\n"
   ]
  },
  {
   "cell_type": "markdown",
   "metadata": {},
   "source": [
    "#### Utilis\n"
   ]
  },
  {
   "cell_type": "code",
   "execution_count": null,
   "metadata": {},
   "outputs": [],
   "source": [
    "def translate(source='pl', target = 'en'):\n",
    "        return  GoogleTranslator(source,target).translate(text)"
   ]
  },
  {
   "cell_type": "code",
   "execution_count": 29,
   "metadata": {},
   "outputs": [],
   "source": [
    "def extract(ancestor, selector=None, attribute=None, multiple=False):\n",
    "    if selector:\n",
    "        if multiple: \n",
    "            if attribute:\n",
    "                return [tag[attribute].strip() for tag in ancestor.select(selector)]\n",
    "            return [p.text.strip() for tag in ancestor.select(selector)]\n",
    "        if attribute:\n",
    "            try:\n",
    "                return ancestor.select_one (selector)[attribute].strip()\n",
    "            except TypeError:\n",
    "                return None \n",
    "        try:\n",
    "            return ancestor.select_one (selector).text.strip()\n",
    "        except AttributeError:\n",
    "            return None \n",
    "    if attribute:\n",
    "        return ancestor[attribute]\n",
    "    return ancestor.text.strip()"
   ]
  },
  {
   "cell_type": "code",
   "execution_count": 38,
   "metadata": {},
   "outputs": [],
   "source": [
    "selectors = {\n",
    "'opinion_id': (None,\"data-entry-id\"),\n",
    "'author':(\"span.user-post__author-name\",),\n",
    "'recommend' :(\"span.user-post__author-recomendation>em\",),\n",
    "'stars': ( \"span.user-post__score-count\",),\n",
    "'content_pl': ( \"div.user-post__text\",),\n",
    "'pros_pl':(\"div.review-feature__item--negative\", None, True),\n",
    "'cons_pl': (\"div.review-feature__item--negative\", None, True),\n",
    "'up_votes':(\"button.vote-yes\",\"data-total-vote\" ),\n",
    "'down_votes':(\"button.vote-no\", \"data-total-vote\"),\n",
    "'published':(\"span.user-post__published > time:nth-child(1)\",\"datetime\"),\n",
    "'published':(\"span.user-post__published > time:nth-child(2)\",\"datetime\")\n",
    "}"
   ]
  },
  {
   "cell_type": "markdown",
   "metadata": {},
   "source": [
    "#### Extraction of opiniopns"
   ]
  },
  {
   "cell_type": "code",
   "execution_count": 33,
   "metadata": {},
   "outputs": [],
   "source": [
    "with open(\"./cookie.json\", \"r\") as jf:\n",
    "    headers = json.load(jf)"
   ]
  },
  {
   "cell_type": "markdown",
   "metadata": {},
   "source": [
    "#### URL code\n"
   ]
  },
  {
   "cell_type": "code",
   "execution_count": 56,
   "metadata": {},
   "outputs": [
    {
     "name": "stdout",
     "output_type": "stream",
     "text": [
      "https://www.ceneo.pl/84514582#tab=reviews\n",
      "10\n"
     ]
    },
    {
     "ename": "NameError",
     "evalue": "name 'p' is not defined",
     "output_type": "error",
     "traceback": [
      "\u001b[31m---------------------------------------------------------------------------\u001b[39m",
      "\u001b[31mNameError\u001b[39m                                 Traceback (most recent call last)",
      "\u001b[36mCell\u001b[39m\u001b[36m \u001b[39m\u001b[32mIn[56]\u001b[39m\u001b[32m, line 12\u001b[39m\n\u001b[32m     10\u001b[39m \u001b[38;5;28mprint\u001b[39m(\u001b[38;5;28mlen\u001b[39m(opinions))\n\u001b[32m     11\u001b[39m \u001b[38;5;28;01mfor\u001b[39;00m opinion \u001b[38;5;129;01min\u001b[39;00m opinions:\n\u001b[32m---> \u001b[39m\u001b[32m12\u001b[39m     single_opinion = \u001b[43m{\u001b[49m\n\u001b[32m     13\u001b[39m \u001b[43m        \u001b[49m\u001b[43mkey\u001b[49m\u001b[43m:\u001b[49m\u001b[43m \u001b[49m\u001b[43mextract\u001b[49m\u001b[43m(\u001b[49m\u001b[43mopinion\u001b[49m\u001b[43m,\u001b[49m\u001b[43m \u001b[49m\u001b[43m*\u001b[49m\u001b[43mvalues\u001b[49m\u001b[43m)\u001b[49m\n\u001b[32m     14\u001b[39m \u001b[43m        \u001b[49m\u001b[38;5;28;43;01mfor\u001b[39;49;00m\u001b[43m \u001b[49m\u001b[43mkey\u001b[49m\u001b[43m,\u001b[49m\u001b[43m \u001b[49m\u001b[43mvalues\u001b[49m\u001b[43m \u001b[49m\u001b[38;5;129;43;01min\u001b[39;49;00m\u001b[43m \u001b[49m\u001b[43mselectors\u001b[49m\u001b[43m.\u001b[49m\u001b[43mitems\u001b[49m\u001b[43m(\u001b[49m\u001b[43m)\u001b[49m\n\u001b[32m     15\u001b[39m \u001b[43m    \u001b[49m\u001b[43m}\u001b[49m\n\u001b[32m     16\u001b[39m     single_opinion[\u001b[33m'\u001b[39m\u001b[33mcontent_en\u001b[39m\u001b[33m'\u001b[39m]= translate(single_opinion[\u001b[33m'\u001b[39m\u001b[33mcontent_pl\u001b[39m\u001b[33m'\u001b[39m])\n\u001b[32m     17\u001b[39m     single_opinion[\u001b[33m'\u001b[39m\u001b[33mpros_en\u001b[39m\u001b[33m'\u001b[39m]= [translate(pros) \u001b[38;5;28;01mfor\u001b[39;00m pros \u001b[38;5;129;01min\u001b[39;00m single_opinion[\u001b[33m'\u001b[39m\u001b[33mpros_pl\u001b[39m\u001b[33m'\u001b[39m]]\n",
      "\u001b[36mCell\u001b[39m\u001b[36m \u001b[39m\u001b[32mIn[56]\u001b[39m\u001b[32m, line 13\u001b[39m, in \u001b[36m<dictcomp>\u001b[39m\u001b[34m(.0)\u001b[39m\n\u001b[32m     10\u001b[39m \u001b[38;5;28mprint\u001b[39m(\u001b[38;5;28mlen\u001b[39m(opinions))\n\u001b[32m     11\u001b[39m \u001b[38;5;28;01mfor\u001b[39;00m opinion \u001b[38;5;129;01min\u001b[39;00m opinions:\n\u001b[32m     12\u001b[39m     single_opinion = {\n\u001b[32m---> \u001b[39m\u001b[32m13\u001b[39m         key: \u001b[43mextract\u001b[49m\u001b[43m(\u001b[49m\u001b[43mopinion\u001b[49m\u001b[43m,\u001b[49m\u001b[43m \u001b[49m\u001b[43m*\u001b[49m\u001b[43mvalues\u001b[49m\u001b[43m)\u001b[49m\n\u001b[32m     14\u001b[39m         \u001b[38;5;28;01mfor\u001b[39;00m key, values \u001b[38;5;129;01min\u001b[39;00m selectors.items()\n\u001b[32m     15\u001b[39m     }\n\u001b[32m     16\u001b[39m     single_opinion[\u001b[33m'\u001b[39m\u001b[33mcontent_en\u001b[39m\u001b[33m'\u001b[39m]= translate(single_opinion[\u001b[33m'\u001b[39m\u001b[33mcontent_pl\u001b[39m\u001b[33m'\u001b[39m])\n\u001b[32m     17\u001b[39m     single_opinion[\u001b[33m'\u001b[39m\u001b[33mpros_en\u001b[39m\u001b[33m'\u001b[39m]= [translate(pros) \u001b[38;5;28;01mfor\u001b[39;00m pros \u001b[38;5;129;01min\u001b[39;00m single_opinion[\u001b[33m'\u001b[39m\u001b[33mpros_pl\u001b[39m\u001b[33m'\u001b[39m]]\n",
      "\u001b[36mCell\u001b[39m\u001b[36m \u001b[39m\u001b[32mIn[29]\u001b[39m\u001b[32m, line 6\u001b[39m, in \u001b[36mextract\u001b[39m\u001b[34m(ancestor, selector, attribute, multiple)\u001b[39m\n\u001b[32m      4\u001b[39m     \u001b[38;5;28;01mif\u001b[39;00m attribute:\n\u001b[32m      5\u001b[39m         \u001b[38;5;28;01mreturn\u001b[39;00m [tag[attribute].strip() \u001b[38;5;28;01mfor\u001b[39;00m tag \u001b[38;5;129;01min\u001b[39;00m ancestor.select(selector)]\n\u001b[32m----> \u001b[39m\u001b[32m6\u001b[39m     \u001b[38;5;28;01mreturn\u001b[39;00m \u001b[43m[\u001b[49m\u001b[43mp\u001b[49m\u001b[43m.\u001b[49m\u001b[43mtext\u001b[49m\u001b[43m.\u001b[49m\u001b[43mstrip\u001b[49m\u001b[43m(\u001b[49m\u001b[43m)\u001b[49m\u001b[43m \u001b[49m\u001b[38;5;28;43;01mfor\u001b[39;49;00m\u001b[43m \u001b[49m\u001b[43mtag\u001b[49m\u001b[43m \u001b[49m\u001b[38;5;129;43;01min\u001b[39;49;00m\u001b[43m \u001b[49m\u001b[43mancestor\u001b[49m\u001b[43m.\u001b[49m\u001b[43mselect\u001b[49m\u001b[43m(\u001b[49m\u001b[43mselector\u001b[49m\u001b[43m)\u001b[49m\u001b[43m]\u001b[49m\n\u001b[32m      7\u001b[39m \u001b[38;5;28;01mif\u001b[39;00m attribute:\n\u001b[32m      8\u001b[39m     \u001b[38;5;28;01mtry\u001b[39;00m:\n",
      "\u001b[36mCell\u001b[39m\u001b[36m \u001b[39m\u001b[32mIn[29]\u001b[39m\u001b[32m, line 6\u001b[39m, in \u001b[36m<listcomp>\u001b[39m\u001b[34m(.0)\u001b[39m\n\u001b[32m      4\u001b[39m     \u001b[38;5;28;01mif\u001b[39;00m attribute:\n\u001b[32m      5\u001b[39m         \u001b[38;5;28;01mreturn\u001b[39;00m [tag[attribute].strip() \u001b[38;5;28;01mfor\u001b[39;00m tag \u001b[38;5;129;01min\u001b[39;00m ancestor.select(selector)]\n\u001b[32m----> \u001b[39m\u001b[32m6\u001b[39m     \u001b[38;5;28;01mreturn\u001b[39;00m [\u001b[43mp\u001b[49m.text.strip() \u001b[38;5;28;01mfor\u001b[39;00m tag \u001b[38;5;129;01min\u001b[39;00m ancestor.select(selector)]\n\u001b[32m      7\u001b[39m \u001b[38;5;28;01mif\u001b[39;00m attribute:\n\u001b[32m      8\u001b[39m     \u001b[38;5;28;01mtry\u001b[39;00m:\n",
      "\u001b[31mNameError\u001b[39m: name 'p' is not defined"
     ]
    }
   ],
   "source": [
    "product_id = \"84514582\"\n",
    "url = f\"https://www.ceneo.pl/{product_id}#tab=reviews\"\n",
    "all_opinions = []\n",
    "while url:\n",
    "    response = requests.get(url, headers = headers )\n",
    "    if response.status_code == 200:\n",
    "        print(url)\n",
    "        page_dom = BeautifulSoup(response.text, 'html.parser')\n",
    "        opinions = page_dom.select(\"div.js_product-review:not(.user-post--highlight)\")\n",
    "        print(len(opinions))\n",
    "        for opinion in opinions:\n",
    "            single_opinion = {\n",
    "                key: extract(opinion, *values)\n",
    "                for key, values in selectors.items()\n",
    "            }\n",
    "            single_opinion['content_en']= translate(single_opinion['content_pl'])\n",
    "            single_opinion['pros_en']= [translate(pros) for pros in single_opinion['pros_pl']]\n",
    "            single_opinion['cons_en']= [translate(cons) for cons in single_opinion['cons_pl']]\n",
    "            single_opinion['recommend']= True if single_opinion['recommend'] == \"Polecam\" else False if single_opinion['recommend'] == \"Nie polecam\" else None \n",
    "            single_opinion['stars']= float(single_opinion['stars'].split(\"/\")[0].replace(\",\", \".\"))\n",
    "            # single_opinion['published'] = datetime.datetime.formisoformat(single_opinion['published'])\n",
    "            # single_opinion['purchased'] = datetime.datetime.formisoformat(single_opinion['published'])\n",
    "            single_opinion['up_votes'] = int(single_opinion['up_votes'])\n",
    "            single_opinion['down_votes'] = int(single_opinion['down_votes'])\n",
    "            all_opinions.append(single_opinion)\n",
    "        try:\n",
    "            url = \"https://www.ceneo.pl\"+page_dom.select_one(\"a.pagination__next\")[\"href\"]\n",
    "        except TypeError:\n",
    "            url = None\n"
   ]
  },
  {
   "cell_type": "markdown",
   "metadata": {},
   "source": [
    "#### Creation of database "
   ]
  },
  {
   "cell_type": "code",
   "execution_count": 55,
   "metadata": {},
   "outputs": [],
   "source": [
    "if not os.path.exists(\"./opinions\"):\n",
    "    os.mkdir(\"./opinions\")"
   ]
  },
  {
   "cell_type": "code",
   "execution_count": 48,
   "metadata": {},
   "outputs": [],
   "source": [
    "with open (f\"./opinions/{product_id}.json\", \"w\", encoding = \"UTF-8\") as jf:\n",
    "    json.dump(all_opinions, jf, indent=4, ensure_ascii=False)"
   ]
  }
 ],
 "metadata": {
  "kernelspec": {
   "display_name": ".venv",
   "language": "python",
   "name": "python3"
  },
  "language_info": {
   "codemirror_mode": {
    "name": "ipython",
    "version": 3
   },
   "file_extension": ".py",
   "mimetype": "text/x-python",
   "name": "python",
   "nbconvert_exporter": "python",
   "pygments_lexer": "ipython3",
   "version": "3.11.4"
  }
 },
 "nbformat": 4,
 "nbformat_minor": 2
}
